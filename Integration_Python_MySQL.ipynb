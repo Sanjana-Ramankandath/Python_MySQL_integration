{
 "cells": [
  {
   "cell_type": "code",
   "execution_count": 70,
   "metadata": {},
   "outputs": [],
   "source": [
    "#Intialization of the auto increment column col_1. This need to be run only once\n",
    "col_1 = 0"
   ]
  },
  {
   "cell_type": "code",
   "execution_count": 71,
   "metadata": {},
   "outputs": [
    {
     "name": "stdout",
     "output_type": "stream",
     "text": [
      "ID: 1\n",
      "Timestamp: 2020-09-15 14:33:11.333599\n"
     ]
    }
   ],
   "source": [
    "import mysql.connector\n",
    "from mysql.connector import errorcode\n",
    "# Current date time in local system \n",
    "from datetime import datetime \n",
    "\n",
    "#col_1 varaible stores the auto increment values\n",
    "col_1 = col_1+1 \n",
    "\n",
    "#col_2 variable stores the timestamp value\n",
    "col_2 = datetime.now()\n",
    "\n",
    "#print the id and timestamp\n",
    "print('ID:',col_1)\n",
    "print('Timestamp:',col_2)\n",
    "\n",
    "#Below code is to connect the Python with MySQL\n",
    "try:\n",
    "        #open a connection to the MySQL server\n",
    "        # please add your mySQL user and password and the corresponding database name \n",
    "        cnct = mysql.connector.connect(host = 'localhost',user='root',port='3306',password = 'test',database='test_schema')\n",
    "     \n",
    "        #create a new cursor\n",
    "        cursor = cnct.cursor()\n",
    "        #INSERT statements are stored in the variables called SQsql_queryLQuery\n",
    "        sql_query = (\"insert into details \"\n",
    "                    \"(Id,Time)\" \n",
    "                    \"values(%(id)s,%(time)s)\")\n",
    "        #The data to be inserted is stored in the variable info\n",
    "        info =  {\n",
    "                    'id': col_1,\n",
    "                    'time': col_2\n",
    "                  }\n",
    "        #execute the operation stored in the query variable using the execute() method\n",
    "        cursor.execute(sql_query,info)\n",
    "        cnct.commit()\n",
    "                   \n",
    "#to handle the errors\n",
    "\n",
    "except mysql.connector.Error as err:\n",
    "    if err.errno == errorcode.ER_ACCESS_DENIED_ERROR:\n",
    "        print(\"Something is wrong with your user name or password\")\n",
    "    elif err.errno == errorcode.ER_BAD_DB_ERROR:\n",
    "        print(\"Database does not exist\")\n",
    "    else:\n",
    "        print(err)\n",
    "else:\n",
    "    cnct.close()"
   ]
  }
 ],
 "metadata": {
  "kernelspec": {
   "display_name": "Python 3",
   "language": "python",
   "name": "python3"
  },
  "language_info": {
   "codemirror_mode": {
    "name": "ipython",
    "version": 3
   },
   "file_extension": ".py",
   "mimetype": "text/x-python",
   "name": "python",
   "nbconvert_exporter": "python",
   "pygments_lexer": "ipython3",
   "version": "3.7.4"
  }
 },
 "nbformat": 4,
 "nbformat_minor": 2
}
